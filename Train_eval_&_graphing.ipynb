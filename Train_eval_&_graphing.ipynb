{
  "nbformat": 4,
  "nbformat_minor": 0,
  "metadata": {
    "colab": {
      "provenance": [],
      "gpuType": "V28"
    },
    "kernelspec": {
      "name": "python3",
      "display_name": "Python 3"
    },
    "language_info": {
      "name": "python"
    },
    "accelerator": "TPU"
  },
  "cells": [
    {
      "cell_type": "markdown",
      "source": [
        "** **"
      ],
      "metadata": {
        "id": "3Tl80KlvVCkF"
      }
    },
    {
      "cell_type": "code",
      "source": [
        "!git clone https://www.github.com/microsoft/BatteryML # clone BatteryML github repository\n",
        "!ls\n",
        "\n"
      ],
      "metadata": {
        "id": "wmkCQeo8_HVg",
        "colab": {
          "base_uri": "https://localhost:8080/"
        },
        "outputId": "3d3b86bc-c6cb-411f-a38f-77406565d35f"
      },
      "execution_count": null,
      "outputs": [
        {
          "output_type": "stream",
          "name": "stdout",
          "text": [
            "Cloning into 'BatteryML'...\n",
            "warning: redirecting to https://github.com/microsoft/BatteryML.git/\n",
            "remote: Enumerating objects: 675, done.\u001b[K\n",
            "remote: Counting objects: 100% (198/198), done.\u001b[K\n",
            "remote: Compressing objects: 100% (150/150), done.\u001b[K\n",
            "remote: Total 675 (delta 119), reused 94 (delta 43), pack-reused 477\u001b[K\n",
            "Receiving objects: 100% (675/675), 1.33 MiB | 10.45 MiB/s, done.\n",
            "Resolving deltas: 100% (432/432), done.\n",
            "BatteryML  sample_data\n",
            "[Errno 2] No such file or directory: 'BatteryML # change directory BatteryML root folder'\n",
            "/content\n",
            "BatteryML  sample_data\n"
          ]
        }
      ]
    },
    {
      "cell_type": "code",
      "source": [
        "%cd BatteryML\n",
        "!ls"
      ],
      "metadata": {
        "colab": {
          "base_uri": "https://localhost:8080/"
        },
        "id": "n_ou2viODIo4",
        "outputId": "24664d2a-5695-4f10-b71e-fb12ff04045f"
      },
      "execution_count": null,
      "outputs": [
        {
          "output_type": "stream",
          "name": "stdout",
          "text": [
            "/content/BatteryML\n",
            "baseline.ipynb\tbin\t\t    configs\t    image    README.md\t       SECURITY.md\n",
            "batteryml\tCODE_OF_CONDUCT.md  dataprepare.md  LICENSE  requirements.txt  setup.py\n"
          ]
        }
      ]
    },
    {
      "cell_type": "code",
      "source": [
        "!pip install -r requirements.txt # install the packages pandas, addict, fire, numpy>=1.24, tqdm, scipy, scikit-learn, pyyaml, numba, matplotlib, h5py, openpyxl\n",
        "!pip install . # loads either the main.py file or the setup.py file within the current directory"
      ],
      "metadata": {
        "id": "zcFvvBh0WgdL",
        "colab": {
          "base_uri": "https://localhost:8080/"
        },
        "outputId": "a6b3f25d-3076-45af-f2bc-ea5463cd862a"
      },
      "execution_count": null,
      "outputs": [
        {
          "output_type": "stream",
          "name": "stdout",
          "text": [
            "Requirement already satisfied: pandas in /usr/local/lib/python3.10/dist-packages (from -r requirements.txt (line 1)) (2.0.3)\n",
            "Collecting addict (from -r requirements.txt (line 2))\n",
            "  Downloading addict-2.4.0-py3-none-any.whl (3.8 kB)\n",
            "Collecting fire (from -r requirements.txt (line 3))\n",
            "  Downloading fire-0.6.0.tar.gz (88 kB)\n",
            "\u001b[2K     \u001b[90m━━━━━━━━━━━━━━━━━━━━━━━━━━━━━━━━━━━━━━━━\u001b[0m \u001b[32m88.4/88.4 kB\u001b[0m \u001b[31m1.3 MB/s\u001b[0m eta \u001b[36m0:00:00\u001b[0m\n",
            "\u001b[?25h  Preparing metadata (setup.py) ... \u001b[?25l\u001b[?25hdone\n",
            "Requirement already satisfied: numpy>=1.24 in /usr/local/lib/python3.10/dist-packages (from -r requirements.txt (line 4)) (1.25.2)\n",
            "Requirement already satisfied: tqdm in /usr/local/lib/python3.10/dist-packages (from -r requirements.txt (line 5)) (4.66.2)\n",
            "Requirement already satisfied: scipy in /usr/local/lib/python3.10/dist-packages (from -r requirements.txt (line 6)) (1.11.4)\n",
            "Requirement already satisfied: scikit-learn in /usr/local/lib/python3.10/dist-packages (from -r requirements.txt (line 7)) (1.2.2)\n",
            "Requirement already satisfied: pyyaml in /usr/local/lib/python3.10/dist-packages (from -r requirements.txt (line 8)) (6.0.1)\n",
            "Requirement already satisfied: numba in /usr/local/lib/python3.10/dist-packages (from -r requirements.txt (line 9)) (0.59.1)\n",
            "Requirement already satisfied: matplotlib in /usr/local/lib/python3.10/dist-packages (from -r requirements.txt (line 10)) (3.7.1)\n",
            "Requirement already satisfied: h5py in /usr/local/lib/python3.10/dist-packages (from -r requirements.txt (line 11)) (3.11.0)\n",
            "Collecting openpyxl (from -r requirements.txt (line 12))\n",
            "  Downloading openpyxl-3.1.2-py2.py3-none-any.whl (249 kB)\n",
            "\u001b[2K     \u001b[90m━━━━━━━━━━━━━━━━━━━━━━━━━━━━━━━━━━━━━━━━\u001b[0m \u001b[32m250.0/250.0 kB\u001b[0m \u001b[31m2.7 MB/s\u001b[0m eta \u001b[36m0:00:00\u001b[0m\n",
            "\u001b[?25hRequirement already satisfied: python-dateutil>=2.8.2 in /usr/local/lib/python3.10/dist-packages (from pandas->-r requirements.txt (line 1)) (2.9.0.post0)\n",
            "Requirement already satisfied: pytz>=2020.1 in /usr/local/lib/python3.10/dist-packages (from pandas->-r requirements.txt (line 1)) (2024.1)\n",
            "Requirement already satisfied: tzdata>=2022.1 in /usr/local/lib/python3.10/dist-packages (from pandas->-r requirements.txt (line 1)) (2024.1)\n",
            "Requirement already satisfied: six in /usr/local/lib/python3.10/dist-packages (from fire->-r requirements.txt (line 3)) (1.16.0)\n",
            "Requirement already satisfied: termcolor in /usr/local/lib/python3.10/dist-packages (from fire->-r requirements.txt (line 3)) (2.4.0)\n",
            "Requirement already satisfied: joblib>=1.1.1 in /usr/local/lib/python3.10/dist-packages (from scikit-learn->-r requirements.txt (line 7)) (1.4.0)\n",
            "Requirement already satisfied: threadpoolctl>=2.0.0 in /usr/local/lib/python3.10/dist-packages (from scikit-learn->-r requirements.txt (line 7)) (3.4.0)\n",
            "Requirement already satisfied: llvmlite<0.43,>=0.42.0dev0 in /usr/local/lib/python3.10/dist-packages (from numba->-r requirements.txt (line 9)) (0.42.0)\n",
            "Requirement already satisfied: contourpy>=1.0.1 in /usr/local/lib/python3.10/dist-packages (from matplotlib->-r requirements.txt (line 10)) (1.2.1)\n",
            "Requirement already satisfied: cycler>=0.10 in /usr/local/lib/python3.10/dist-packages (from matplotlib->-r requirements.txt (line 10)) (0.12.1)\n",
            "Requirement already satisfied: fonttools>=4.22.0 in /usr/local/lib/python3.10/dist-packages (from matplotlib->-r requirements.txt (line 10)) (4.51.0)\n",
            "Requirement already satisfied: kiwisolver>=1.0.1 in /usr/local/lib/python3.10/dist-packages (from matplotlib->-r requirements.txt (line 10)) (1.4.5)\n",
            "Requirement already satisfied: packaging>=20.0 in /usr/local/lib/python3.10/dist-packages (from matplotlib->-r requirements.txt (line 10)) (24.0)\n",
            "Requirement already satisfied: pillow>=6.2.0 in /usr/local/lib/python3.10/dist-packages (from matplotlib->-r requirements.txt (line 10)) (10.3.0)\n",
            "Requirement already satisfied: pyparsing>=2.3.1 in /usr/local/lib/python3.10/dist-packages (from matplotlib->-r requirements.txt (line 10)) (3.1.2)\n",
            "Collecting et-xmlfile (from openpyxl->-r requirements.txt (line 12))\n",
            "  Downloading et_xmlfile-1.1.0-py3-none-any.whl (4.7 kB)\n",
            "Building wheels for collected packages: fire\n",
            "  Building wheel for fire (setup.py) ... \u001b[?25l\u001b[?25hdone\n",
            "  Created wheel for fire: filename=fire-0.6.0-py2.py3-none-any.whl size=117029 sha256=a55ffe8529eca6f9773b60c79029317180a942e100d51463494b06068c3664cd\n",
            "  Stored in directory: /root/.cache/pip/wheels/d6/6d/5d/5b73fa0f46d01a793713f8859201361e9e581ced8c75e5c6a3\n",
            "Successfully built fire\n",
            "Installing collected packages: addict, fire, et-xmlfile, openpyxl\n",
            "Successfully installed addict-2.4.0 et-xmlfile-1.1.0 fire-0.6.0 openpyxl-3.1.2\n",
            "Processing /content/BatteryML\n",
            "  Preparing metadata (setup.py) ... \u001b[?25l\u001b[?25hdone\n",
            "Requirement already satisfied: pandas in /usr/local/lib/python3.10/dist-packages (from BatteryML==0.0.1) (2.0.3)\n",
            "Requirement already satisfied: addict in /usr/local/lib/python3.10/dist-packages (from BatteryML==0.0.1) (2.4.0)\n",
            "Requirement already satisfied: fire in /usr/local/lib/python3.10/dist-packages (from BatteryML==0.0.1) (0.6.0)\n",
            "Requirement already satisfied: numpy>=1.24 in /usr/local/lib/python3.10/dist-packages (from BatteryML==0.0.1) (1.25.2)\n",
            "Requirement already satisfied: tqdm in /usr/local/lib/python3.10/dist-packages (from BatteryML==0.0.1) (4.66.2)\n",
            "Requirement already satisfied: scipy in /usr/local/lib/python3.10/dist-packages (from BatteryML==0.0.1) (1.11.4)\n",
            "Requirement already satisfied: scikit-learn in /usr/local/lib/python3.10/dist-packages (from BatteryML==0.0.1) (1.2.2)\n",
            "Requirement already satisfied: pyyaml in /usr/local/lib/python3.10/dist-packages (from BatteryML==0.0.1) (6.0.1)\n",
            "Requirement already satisfied: numba in /usr/local/lib/python3.10/dist-packages (from BatteryML==0.0.1) (0.59.1)\n",
            "Requirement already satisfied: matplotlib in /usr/local/lib/python3.10/dist-packages (from BatteryML==0.0.1) (3.7.1)\n",
            "Requirement already satisfied: h5py in /usr/local/lib/python3.10/dist-packages (from BatteryML==0.0.1) (3.11.0)\n",
            "Requirement already satisfied: openpyxl in /usr/local/lib/python3.10/dist-packages (from BatteryML==0.0.1) (3.1.2)\n",
            "Requirement already satisfied: six in /usr/local/lib/python3.10/dist-packages (from fire->BatteryML==0.0.1) (1.16.0)\n",
            "Requirement already satisfied: termcolor in /usr/local/lib/python3.10/dist-packages (from fire->BatteryML==0.0.1) (2.4.0)\n",
            "Requirement already satisfied: contourpy>=1.0.1 in /usr/local/lib/python3.10/dist-packages (from matplotlib->BatteryML==0.0.1) (1.2.1)\n",
            "Requirement already satisfied: cycler>=0.10 in /usr/local/lib/python3.10/dist-packages (from matplotlib->BatteryML==0.0.1) (0.12.1)\n",
            "Requirement already satisfied: fonttools>=4.22.0 in /usr/local/lib/python3.10/dist-packages (from matplotlib->BatteryML==0.0.1) (4.51.0)\n",
            "Requirement already satisfied: kiwisolver>=1.0.1 in /usr/local/lib/python3.10/dist-packages (from matplotlib->BatteryML==0.0.1) (1.4.5)\n",
            "Requirement already satisfied: packaging>=20.0 in /usr/local/lib/python3.10/dist-packages (from matplotlib->BatteryML==0.0.1) (24.0)\n",
            "Requirement already satisfied: pillow>=6.2.0 in /usr/local/lib/python3.10/dist-packages (from matplotlib->BatteryML==0.0.1) (10.3.0)\n",
            "Requirement already satisfied: pyparsing>=2.3.1 in /usr/local/lib/python3.10/dist-packages (from matplotlib->BatteryML==0.0.1) (3.1.2)\n",
            "Requirement already satisfied: python-dateutil>=2.7 in /usr/local/lib/python3.10/dist-packages (from matplotlib->BatteryML==0.0.1) (2.9.0.post0)\n",
            "Requirement already satisfied: llvmlite<0.43,>=0.42.0dev0 in /usr/local/lib/python3.10/dist-packages (from numba->BatteryML==0.0.1) (0.42.0)\n",
            "Requirement already satisfied: et-xmlfile in /usr/local/lib/python3.10/dist-packages (from openpyxl->BatteryML==0.0.1) (1.1.0)\n",
            "Requirement already satisfied: pytz>=2020.1 in /usr/local/lib/python3.10/dist-packages (from pandas->BatteryML==0.0.1) (2024.1)\n",
            "Requirement already satisfied: tzdata>=2022.1 in /usr/local/lib/python3.10/dist-packages (from pandas->BatteryML==0.0.1) (2024.1)\n",
            "Requirement already satisfied: joblib>=1.1.1 in /usr/local/lib/python3.10/dist-packages (from scikit-learn->BatteryML==0.0.1) (1.4.0)\n",
            "Requirement already satisfied: threadpoolctl>=2.0.0 in /usr/local/lib/python3.10/dist-packages (from scikit-learn->BatteryML==0.0.1) (3.4.0)\n",
            "Building wheels for collected packages: BatteryML\n",
            "  Building wheel for BatteryML (setup.py) ... \u001b[?25l\u001b[?25hdone\n",
            "  Created wheel for BatteryML: filename=BatteryML-0.0.1-py3-none-any.whl size=61830 sha256=9f499b57db15cc2052bbc937a017ec324d7c6440b39707f7269c1c515a429f9b\n",
            "  Stored in directory: /tmp/pip-ephem-wheel-cache-q0c2yt1q/wheels/24/2a/b1/e1def98dc5e0cb0314376fcf1f6af693cdc42bbe890a02dd50\n",
            "Successfully built BatteryML\n",
            "Installing collected packages: BatteryML\n",
            "Successfully installed BatteryML-0.0.1\n"
          ]
        }
      ]
    },
    {
      "cell_type": "code",
      "source": [
        "!mkdir /content/BatteryML/data # makes a path in the structure specified\n",
        "!mkdir /content/BatteryML/data/processed # makes the directory in the structure specified"
      ],
      "metadata": {
        "id": "ACqxG8FqWsCW"
      },
      "execution_count": null,
      "outputs": []
    },
    {
      "cell_type": "code",
      "source": [
        "from google.colab import drive\n",
        "drive.mount('/content/drive')\n",
        "\n",
        "#!mkdir /content/BatteryML/data/processed/MATR\n",
        "#!cp -r /content/drive/MyDrive/batteryml/datasets/processed/MATR/ /content/BatteryML/data/processed/\n",
        "#\n",
        "#!mkdir /content/BatteryML/data/processed/HUST\n",
        "#!cp -r /content/drive/MyDrive/batteryml/datasets/processed/HUST /content/BatteryML/data/processed/\n",
        "#\n",
        "#!mkdir /content/BatteryML/data/processed/RWTH\n",
        "#!cp -r /content/drive/MyDrive/batteryml/datasets/processed/RWTH /content/BatteryML/data/processed/\n",
        "#\n",
        "#!mkdir /content/BatteryML/data/processed/CALCE\n",
        "#!cp -r /content/drive/MyDrive/batteryml/datasets/processed/CALCE /content/BatteryML/data/processed/\n",
        "#"
      ],
      "metadata": {
        "id": "af8Z8gT7WsG7",
        "colab": {
          "base_uri": "https://localhost:8080/"
        },
        "outputId": "91e8bf40-5406-4237-a551-6e5095129184"
      },
      "execution_count": null,
      "outputs": [
        {
          "output_type": "stream",
          "name": "stdout",
          "text": [
            "Mounted at /content/drive\n"
          ]
        }
      ]
    },
    {
      "cell_type": "code",
      "source": [
        "!mkdir /content/BatteryML/data/processed/MATR\n",
        "!cp -r /content/drive/MyDrive/batteryml/datasets/processed/MATR /content/BatteryML/data/processed/\n",
        "#!mkdir /content/BatteryML/data/processed/HUST\n",
        "#!cp -r /content/drive/MyDrive/batteryml/datasets/processed/HUST /content/BatteryML/data/processed/\n",
        "#!mkdir /content/BatteryML/data/processed/RWTH\n",
        "#!cp -r /content/drive/MyDrive/batteryml/datasets/processed/RWTH /content/BatteryML/data/processed/"
      ],
      "metadata": {
        "id": "IG10BdVeH2uU"
      },
      "execution_count": null,
      "outputs": []
    },
    {
      "cell_type": "code",
      "source": [
        "# Copyright (c) Microsoft Corporation.\n",
        "# Licensed under the MIT License.\n",
        "import sys\n",
        "from batteryml.pipeline import Pipeline\n",
        "from batteryml.visualization.plot_helper import plot_capacity_degradation, plot_cycle_attribute, plot_result\n",
        "\n",
        "%load_ext autoreload\n",
        "%autoreload 2"
      ],
      "metadata": {
        "id": "sDfrp2Gd_kvB"
      },
      "execution_count": null,
      "outputs": []
    },
    {
      "cell_type": "markdown",
      "source": [
        "**Models: rf, variance_model, full_model, discharge_model, gpr, pcr, plsr, dummy, ridge, mlp, lstm, cnn. Datasets: clo, matr_1, matr_2,hust**\n",
        "cruh,crush,mix,snl,"
      ],
      "metadata": {
        "id": "YJNfTGK5agts"
      }
    },
    {
      "cell_type": "code",
      "source": [
        "import os\n",
        "import pandas as pd\n",
        "\n",
        "config_dir = 'configs/baselines/'\n",
        "datasets = input(\"Enter the datasets separated by comma: \").split(',')\n",
        "methods = input(\"Enter the model names separated by comma: \").split(',')\n",
        "result = []\n",
        "\n",
        "# Assuming method types are still required and listed in a directory\n",
        "for method_type in os.listdir(config_dir):\n",
        "    # Check if the method type directory contains any of the methods of interest\n",
        "    for method in methods:\n",
        "        # Check if the method directory exists before proceeding\n",
        "\n",
        "        method_path = os.path.join(config_dir, method_type, method)\n",
        "        if os.path.exists(method_path):\n",
        "            print(method)\n",
        "            for data in datasets:\n",
        "                print(data)\n",
        "                config_path = os.path.join(method_path, f'{data}.yaml')\n",
        "                pipeline = Pipeline(config_path=config_path,\n",
        "                                    workspace=f'workspaces/{method}')\n",
        "                model, dataset = pipeline.train(device='cpu', skip_if_executed=False)\n",
        "                train_prediction = model.predict(dataset, data_type='train')\n",
        "                train_loss = dataset.evaluate(train_prediction, 'RMSE', data_type='train')\n",
        "                test_prediction = model.predict(dataset, data_type='test')\n",
        "                test_loss = dataset.evaluate(test_prediction, 'RMSE', data_type='test')\n",
        "                # get raw data from pipeline\n",
        "                train_cells, test_cells = pipeline.raw_data['train_cells'], pipeline.raw_data['test_cells']\n",
        "                print(data, method)\n",
        "                print(dataset.test_data.label)\n",
        "            # normailze across all predictions first and assign to y_min, y_max\n",
        "            #\n",
        "\n",
        "            prediction = model.predict(dataset, data_type='test').to('cpu')\n",
        "            ground_truth = dataset.test_data.label.to('cpu')\n",
        "            plot_result(ground_truth, prediction,method)\n",
        "            result.append([method, train_loss, test_loss])\n",
        "\n",
        "res = pd.DataFrame(data=result, columns=['method', 'train_RMSE', 'test_RMSE'])\n"
      ],
      "metadata": {
        "id": "0DZlHsJ-1JPp",
        "colab": {
          "base_uri": "https://localhost:8080/",
          "height": 668
        },
        "outputId": "8f7496ae-e830-41ab-fe1b-b2b95042a36e"
      },
      "execution_count": null,
      "outputs": [
        {
          "output_type": "stream",
          "name": "stdout",
          "text": [
            "Enter the datasets separated by comma: hust\n",
            "Enter the model names separated by comma: plsr\n",
            "plsr\n",
            "hust\n",
            "Seed is set to 0.\n",
            "Load datasets from cache cache/battery_cache_4304ee6018890bda9e083984960b43fc.pkl.\n",
            "hust plsr\n",
            "tensor([-0.7178, -1.4440, -1.0463,  0.1879,  1.1576,  1.7829, -0.5105,  1.7629,\n",
            "        -1.3295, -0.3312,  0.9900, -1.7259,  0.2800,  1.3652,  0.0218, -0.2179,\n",
            "        -0.4443,  0.1120, -0.1421,  1.3295, -1.5793, -0.8653])\n"
          ]
        },
        {
          "output_type": "display_data",
          "data": {
            "text/plain": [
              "<Figure size 640x480 with 4 Axes>"
            ],
            "image/png": "[encoded data removed]"
          },
          "metadata": {}
        }
      ]
    },
    {
      "cell_type": "code",
      "source": [
        "import os\n",
        "import pandas as pd\n",
        "\n",
        "config_dir = 'configs/baselines/'\n",
        "datasets = input(\"Enter the datasets separated by comma: \").split(',')\n",
        "methods = input(\"Enter the model names separated by comma: \").split(',')\n",
        "result = []\n",
        "\n",
        "# Assuming method types are still required and listed in a directory\n",
        "for method_type in os.listdir(config_dir):\n",
        "    # Check if the method type directory contains any of the methods of interest\n",
        "    for method in methods:\n",
        "        # Check if the method directory exists before proceeding\n",
        "        method_path = os.path.join(config_dir, method_type, method)\n",
        "        if os.path.exists(method_path):\n",
        "            print(method)\n",
        "            for data in datasets:\n",
        "                print(data)\n",
        "                config_path = os.path.join(method_path, f'{data}.yaml')\n",
        "                pipeline = Pipeline(config_path=config_path,\n",
        "                                    workspace=f'workspaces/{method}')\n",
        "                model, dataset = pipeline.train(device='cpu', skip_if_executed=False)\n",
        "                train_prediction = model.predict(dataset, data_type='train')\n",
        "                train_loss = dataset.evaluate(train_prediction, 'RMSE', data_type='train')\n",
        "                test_prediction = model.predict(dataset, data_type='test')\n",
        "                test_loss = dataset.evaluate(test_prediction, 'RMSE', data_type='test')\n",
        "                # get raw data from pipeline\n",
        "                train_cells, test_cells = pipeline.raw_data['train_cells'], pipeline.raw_data['test_cells']\n",
        "                print(data, method)\n",
        "                print(dataset.test_data.label)\n",
        "                prediction = model.predict(dataset, data_type='test').to('cpu')\n",
        "                ground_truth = dataset.test_data.label.to('cpu')\n",
        "                plot_result(ground_truth, prediction)\n",
        "                result.append([method, train_loss, test_loss])\n",
        "\n",
        "res = pd.DataFrame(data=result, columns=['method', 'train_RMSE', 'test_RMSE'])\n"
      ],
      "metadata": {
        "id": "kdN2x02SVpG7"
      },
      "execution_count": null,
      "outputs": []
    },
    {
      "cell_type": "code",
      "source": [
        "!cp -r /content/BatteryML/workspaces /content/drive/MyDrive/batteryml/baseline/workspaces"
      ],
      "metadata": {
        "id": "ynJsb7PeO14X"
      },
      "execution_count": null,
      "outputs": []
    },
    {
      "cell_type": "code",
      "source": [
        "!cp -r /content/BatteryML/cache /content/drive/MyDrive/batteryml/baseline/cache"
      ],
      "metadata": {
        "id": "wZY75FzOOfYY"
      },
      "execution_count": null,
      "outputs": []
    }
  ]
}